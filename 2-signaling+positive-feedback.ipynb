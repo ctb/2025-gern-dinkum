{
 "cells": [
  {
   "cell_type": "code",
   "execution_count": null,
   "id": "4af3b9e0-da79-4364-ad26-324622b30c01",
   "metadata": {},
   "outputs": [],
   "source": [
    "import dinkum\n",
    "from dinkum.vfg import Gene, Receptor, Ligand\n",
    "from dinkum.vfn import Tissue"
   ]
  },
  {
   "cell_type": "markdown",
   "id": "fa6f1837-3e7d-4c96-a47f-12eb2498085b",
   "metadata": {},
   "source": [
    "# Create a dinkum model showing a transient signal from tissue M initiating a positive feedback loop in tissue N"
   ]
  },
  {
   "cell_type": "code",
   "execution_count": null,
   "id": "72a4b792-ce76-4f87-a76f-03166ecd4083",
   "metadata": {},
   "outputs": [],
   "source": [
    "dinkum.reset()\n",
    "\n",
    "# define five genes: one ubiquitous/transient, a ligand, a receptor for that ligand,\n",
    "# and two genes that will form the positive feedback loop\n",
    "ubiq = Gene(name='ubiq')\n",
    "ligand_a = Ligand(name='lig_A')\n",
    "receptor_b = Receptor(name='rec_B', ligand=ligand_a)\n",
    "x = Gene(name='X')\n",
    "y = Gene(name='Y')\n",
    "\n",
    "# define two tissues\n",
    "m = Tissue(name='M')\n",
    "n = Tissue(name='N')\n",
    "\n",
    "# define neighborhood relationship for ligands & receptors\n",
    "n.add_neighbor(neighbor=m)\n",
    "\n",
    "# turn ubiq on in M and N starting at time=1\n",
    "ubiq.is_present(where=m, start=1, duration=5)\n",
    "ubiq.is_present(where=n, start=1, duration=5)\n",
    "\n",
    "# turn receptor on in both tissues\n",
    "receptor_b.activated_by(source=ubiq)\n",
    "\n",
    "# now implement the following _genomic_ regulatory rules\n",
    "# 1. use ubiq to turn on lig_A\n",
    "# 2. connect rec_B to turn on gene X\n",
    "# 3. connect gene X to turn on gene Y\n",
    "# 4. connect gene Y to run on gene X\n",
    "# end goal: X and Y are \"locked into\" a positive feedback loop in tissue N\n",
    "\n",
    "# <-- rules go here :)\n",
    "\n",
    "# run for 15 ticks (1 to 15)\n",
    "dinkum.run_and_display(stop=15, gene_names=['ubiq', 'lig_A', 'rec_B', 'X', 'Y'])"
   ]
  },
  {
   "cell_type": "code",
   "execution_count": null,
   "id": "4f795a09-a91a-4a78-8837-5130f0bb47de",
   "metadata": {},
   "outputs": [],
   "source": []
  }
 ],
 "metadata": {
  "kernelspec": {
   "display_name": "Python 3 (ipykernel)",
   "language": "python",
   "name": "python3"
  },
  "language_info": {
   "codemirror_mode": {
    "name": "ipython",
    "version": 3
   },
   "file_extension": ".py",
   "mimetype": "text/x-python",
   "name": "python",
   "nbconvert_exporter": "python",
   "pygments_lexer": "ipython3",
   "version": "3.11.6"
  }
 },
 "nbformat": 4,
 "nbformat_minor": 5
}
