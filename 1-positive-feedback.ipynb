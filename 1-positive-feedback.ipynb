{
 "cells": [
  {
   "cell_type": "code",
   "execution_count": null,
   "id": "4af3b9e0-da79-4364-ad26-324622b30c01",
   "metadata": {},
   "outputs": [],
   "source": [
    "import dinkum\n",
    "from dinkum.vfg import Gene, Receptor, Ligand\n",
    "from dinkum.vfn import Tissue"
   ]
  },
  {
   "cell_type": "markdown",
   "id": "fa6f1837-3e7d-4c96-a47f-12eb2498085b",
   "metadata": {},
   "source": [
    "# Create a dinkum model showing a transient activator initiating a positive feedback loop"
   ]
  },
  {
   "cell_type": "code",
   "execution_count": null,
   "id": "72a4b792-ce76-4f87-a76f-03166ecd4083",
   "metadata": {},
   "outputs": [],
   "source": [
    "dinkum.reset()\n",
    "\n",
    "# define three genes: one ubiquitous/transient, and two genes that will form the positive feedback loop\n",
    "ubiq = Gene(name='ubiq')\n",
    "x = Gene(name='X')\n",
    "y = Gene(name='Y')\n",
    "\n",
    "# define two tissues\n",
    "m = Tissue(name='M')\n",
    "\n",
    "# turn ubiq on in M and N starting at time=1\n",
    "ubiq.is_present(where=m, start=1, duration=5)\n",
    "\n",
    "# now implement the following _genomic_ regulatory rules\n",
    "# 1. use ubiq to turn on X,\n",
    "# 3. connect gene X to turn on gene Y\n",
    "# 4. connect gene Y to turn on gene X\n",
    "# end goal: X and Y are \"locked into\" a positive feedback loop in tissue N\n",
    "\n",
    "# <-- rules go here :)\n",
    "\n",
    "# run for 15 ticks (1 to 15)\n",
    "dinkum.run_and_display(stop=15, gene_names=['ubiq', 'X', 'Y'])"
   ]
  }
 ],
 "metadata": {
  "kernelspec": {
   "display_name": "Python 3 (ipykernel)",
   "language": "python",
   "name": "python3"
  },
  "language_info": {
   "codemirror_mode": {
    "name": "ipython",
    "version": 3
   },
   "file_extension": ".py",
   "mimetype": "text/x-python",
   "name": "python",
   "nbconvert_exporter": "python",
   "pygments_lexer": "ipython3",
   "version": "3.11.6"
  }
 },
 "nbformat": 4,
 "nbformat_minor": 5
}
